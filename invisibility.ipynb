{
 "cells": [
  {
   "cell_type": "code",
   "execution_count": 9,
   "metadata": {},
   "outputs": [],
   "source": [
    "import numpy as np\n",
    "import cv2 \n",
    "import time"
   ]
  },
  {
   "cell_type": "code",
   "execution_count": 10,
   "metadata": {},
   "outputs": [],
   "source": [
    "cap=cv2.VideoCapture(0)\n",
    "fourcc = cv2.VideoWriter_fourcc(*'XVID')\n",
    "out = cv2.VideoWriter('harrypotter.avi', fourcc, 20.0, (640,  480))\n",
    "time.sleep(2)\n",
    "background = 0#capturing background\n",
    "for i in range(30):\n",
    "    ret, background = cap.read()#capturing image\n",
    "\n",
    "stop = 0\n",
    "while(cap.isOpened()):\n",
    "    ret, img = cap.read()\n",
    "    \n",
    "    if not ret:\n",
    "        break\n",
    "        \n",
    "    hsv=cv2.cvtColor(img, cv2.COLOR_BGR2HSV)\n",
    "    lower_red = np.array([0,120,70])\n",
    "    upper_red = np.array([10,255,255])\n",
    "    mask1 = cv2.inRange(hsv , lower_red , upper_red)\n",
    "    \n",
    "    lower_red = np.array([170,120,70])\n",
    "    upper_red = np.array([180,255,255])\n",
    "    mask2 = cv2.inRange(hsv , lower_red , upper_red)\n",
    "    \n",
    "    mask1 = mask1 + mask2 #OR\n",
    "    mask1=cv2.morphologyEx(mask1, cv2.MORPH_OPEN ,np.ones((3,3) , np.uint8) , iterations=2)\n",
    "        \n",
    "    mask2=cv2.morphologyEx(mask1, cv2.MORPH_DILATE ,np.ones((3,3) , np.uint8) , iterations=1)\n",
    "        \n",
    "    mask2 = cv2.bitwise_not(mask1)\n",
    "    \n",
    "    res1 = cv2.bitwise_and(background, background, mask=mask1)\n",
    "    res2 = cv2.bitwise_and(img, img, mask=mask2)\n",
    "    \n",
    "    final_output = cv2.addWeighted(res1 , 1, res2 , 1, 0)\n",
    "    out.write(final_output)\n",
    "    cv2.imshow('Harry' , final_output)\n",
    "    stop += 1\n",
    "    if stop == 2000:\n",
    "        break\n",
    "    if cv2.waitKey(1) == ord('q'):\n",
    "        break\n",
    "        \n",
    "cap.release()\n",
    "cv2.destroyAllWindows()"
   ]
  },
  {
   "cell_type": "code",
   "execution_count": 8,
   "metadata": {},
   "outputs": [
    {
     "data": {
      "text/plain": [
       "'import numpy as np\\nimport cv2 as cv\\ncap = cv.VideoCapture(0)\\n# Define the codec and create VideoWriter object\\nfourcc = cv.VideoWriter_fourcc(*\\'XVID\\')\\nout = cv.VideoWriter(\\'output.avi\\', fourcc, 20.0, (640,  480))\\nwhile cap.isOpened():\\n    ret, frame = cap.read()\\n    if not ret:\\n        print(\"Can\\'t receive frame (stream end?). Exiting ...\")\\n        break\\n    frame = cv.flip(frame, 0)\\n    # write the flipped frame\\n    out.write(frame)\\n    cv.imshow(\\'frame\\', frame)\\n    if cv.waitKey(1) == ord(\\'q\\'):\\n        break\\n# Release everything if job is finished\\ncap.release()\\nout.release()\\ncv.destroyAllWindows()'"
      ]
     },
     "execution_count": 8,
     "metadata": {},
     "output_type": "execute_result"
    }
   ],
   "source": [
    "'''import numpy as np\n",
    "import cv2 as cv\n",
    "cap = cv.VideoCapture(0)\n",
    "# Define the codec and create VideoWriter object\n",
    "fourcc = cv.VideoWriter_fourcc(*'XVID')\n",
    "out = cv.VideoWriter('output.avi', fourcc, 20.0, (640,  480))\n",
    "while cap.isOpened():\n",
    "    ret, frame = cap.read()\n",
    "    if not ret:\n",
    "        print(\"Can't receive frame (stream end?). Exiting ...\")\n",
    "        break\n",
    "    frame = cv.flip(frame, 0)\n",
    "    # write the flipped frame\n",
    "    out.write(frame)\n",
    "    cv.imshow('frame', frame)\n",
    "    if cv.waitKey(1) == ord('q'):\n",
    "        break\n",
    "# Release everything if job is finished\n",
    "cap.release()\n",
    "out.release()\n",
    "cv.destroyAllWindows()'''"
   ]
  },
  {
   "cell_type": "code",
   "execution_count": null,
   "metadata": {},
   "outputs": [],
   "source": []
  }
 ],
 "metadata": {
  "kernelspec": {
   "display_name": "Python 3",
   "language": "python",
   "name": "python3"
  },
  "language_info": {
   "codemirror_mode": {
    "name": "ipython",
    "version": 3
   },
   "file_extension": ".py",
   "mimetype": "text/x-python",
   "name": "python",
   "nbconvert_exporter": "python",
   "pygments_lexer": "ipython3",
   "version": "3.7.3"
  }
 },
 "nbformat": 4,
 "nbformat_minor": 2
}
